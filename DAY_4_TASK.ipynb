{
 "cells": [
  {
   "cell_type": "markdown",
   "id": "2f948f14",
   "metadata": {},
   "source": [
    "OOPs stands for Object-Oriented Programming System.\n",
    "It is a programming paradigm based on the concept of objects, which can contain data (attributes) and code (methods).\n",
    "\n",
    "OOP helps to organize code better, makes it reusable, and models real-world things."
   ]
  },
  {
   "cell_type": "markdown",
   "id": "70a37889",
   "metadata": {},
   "source": [
    "Main Concepts of OOPs:\n",
    "\n",
    "*Class\n",
    "\n",
    "*Object\n",
    "\n",
    "*Method"
   ]
  },
  {
   "cell_type": "markdown",
   "id": "779d6c2d",
   "metadata": {},
   "source": [
    "1. CLASS\n",
    "\n",
    "A class is like a blueprint or template to create objects. It defines properties (attributes) and behaviors (methods) that objects created from the class can have."
   ]
  },
  {
   "cell_type": "code",
   "execution_count": 11,
   "id": "ef6ab0d5",
   "metadata": {},
   "outputs": [],
   "source": [
    "class Car:\n",
    "    def __init__(self, brand, model):\n",
    "        self.brand = brand  \n",
    "        self.model = model  \n",
    "    \n",
    "    def start_engine(self):  \n",
    "        print(f\"{self.brand} {self.model} engine started.\")\n"
   ]
  },
  {
   "cell_type": "markdown",
   "id": "99258734",
   "metadata": {},
   "source": [
    "\n",
    "2.METHOD\n",
    "\n",
    "A method is like a function but it is defined inside a class.\n",
    "It describes the actions or behaviors that an object created from the class can do.\n",
    "Methods can use or modify the object's data (called attributes)."
   ]
  },
  {
   "cell_type": "markdown",
   "id": "8ee4978e",
   "metadata": {},
   "source": [
    "Types of Methods in Python Classes:\n",
    "\n",
    "1.Instance Method\n",
    "\n",
    " *Most common type.\n",
    "\n",
    " *Takes self as the first parameter to access object attributes and other methods.\n",
    "\n",
    " *Called by the object.\n",
    "\n",
    "2.Class Method\n",
    "\n",
    " *Uses @classmethod decorator.\n",
    "\n",
    " *Takes cls as the first parameter, refers to the class itself.\n",
    "\n",
    " *Can access or modify class-level data.\n",
    "\n",
    "3.Static Method\n",
    "\n",
    " *Uses @staticmethod decorator.\n",
    "\n",
    " *Does not take self or cls.\n",
    "\n",
    " *Works like a normal function but lives inside the class."
   ]
  },
  {
   "cell_type": "code",
   "execution_count": 15,
   "id": "913a837c",
   "metadata": {},
   "outputs": [
    {
     "name": "stdout",
     "output_type": "stream",
     "text": [
      "jully says woohoo!\n"
     ]
    }
   ],
   "source": [
    "class Dog:\n",
    "    def __init__(self, name):\n",
    "        self.name = name  \n",
    "    \n",
    "    def bark(self):\n",
    "        print(f\"{self.name} says woohoo!\")  \n",
    "\n",
    "my_dog = Dog(\"jully\")\n",
    "my_dog.bark()  \n"
   ]
  },
  {
   "cell_type": "markdown",
   "id": "da9b89a4",
   "metadata": {},
   "source": [
    "3.OBJECT\n",
    "\n",
    " *An object is an instance of a class.\n",
    "\n",
    " *It is a real entity created using the class blueprint.\n",
    "\n",
    " *Each object can have its own values for the attributes defined in the class.\n",
    "\n",
    " *You can think of a class as a cookie cutter, and the objects are the cookies made from it — each cookie (object) can have different shapes or decorations (attribute values)."
   ]
  },
  {
   "cell_type": "code",
   "execution_count": 16,
   "id": "4e56fdd9",
   "metadata": {},
   "outputs": [
    {
     "name": "stdout",
     "output_type": "stream",
     "text": [
      "Brand: Honda, Color: Red\n",
      "Brand: Toyota, Color: Blue\n"
     ]
    }
   ],
   "source": [
    "class Car:\n",
    "    def __init__(self, brand, color):\n",
    "        self.brand = brand\n",
    "        self.color = color\n",
    "    \n",
    "    def show(self):\n",
    "        print(f\"Brand: {self.brand}, Color: {self.color}\")\n",
    "\n",
    "car1 = Car(\"Honda\", \"Red\")\n",
    "car2 = Car(\"Toyota\", \"Blue\")\n",
    "\n",
    "\n",
    "car1.show()   \n",
    "car2.show()   \n"
   ]
  },
  {
   "cell_type": "markdown",
   "id": "dbcbcbb3",
   "metadata": {},
   "source": [
    "**4 PILLARS OF OOPS\n",
    "\n",
    "1. Encapsulation\n",
    "\n",
    " *It means hiding the private details of how a class works.\n",
    "\n",
    " *We keep the data safe inside the class and only allow access through special methods.\n",
    "\n",
    " *Like a capsule, data is wrapped inside the class.\n",
    "\n",
    "\n"
   ]
  },
  {
   "cell_type": "code",
   "execution_count": 18,
   "id": "233530b4",
   "metadata": {},
   "outputs": [
    {
     "name": "stdout",
     "output_type": "stream",
     "text": [
      "Swaroopa\n",
      "22\n",
      "25\n"
     ]
    }
   ],
   "source": [
    "\n",
    "\n",
    "class Person:\n",
    "    def __init__(self, name, age):\n",
    "        self.name = name         \n",
    "        self.__age = age         \n",
    "\n",
    "    \n",
    "    def get_age(self):\n",
    "        return self.__age\n",
    "\n",
    "    \n",
    "    def set_age(self, age):\n",
    "        if age > 0:\n",
    "            self.__age = age\n",
    "\n",
    "p = Person(\"Swaroopa\", 22)\n",
    "print(p.name)           \n",
    "print(p.get_age())      \n",
    "\n",
    "p.set_age(25)\n",
    "print(p.get_age())      \n",
    "\n"
   ]
  },
  {
   "cell_type": "markdown",
   "id": "a87e1f5d",
   "metadata": {},
   "source": [
    "2.INHERITANCE\n",
    "\n",
    " *Inheritance means a new class (called child or subclass) inherits properties (attributes) and behaviors (methods) from an existing class (called parent or superclass).\n",
    "\n",
    " *It helps to reuse code and create a relationship between classes.\n",
    "\n",
    " *The child class can also have its own extra features or modify the inherited ones.\n",
    "\n"
   ]
  },
  {
   "cell_type": "code",
   "execution_count": 19,
   "id": "9b093a41",
   "metadata": {},
   "outputs": [
    {
     "name": "stdout",
     "output_type": "stream",
     "text": [
      "Tommy says Woof!\n",
      "Kitty says Meow!\n"
     ]
    }
   ],
   "source": [
    "\n",
    "class Animal:\n",
    "    def __init__(self, name):\n",
    "        self.name = name\n",
    "    \n",
    "    def sound(self):\n",
    "        print(\"Some generic animal sound\")\n",
    "\n",
    "class Dog(Animal):\n",
    "    def sound(self):  \n",
    "        print(f\"{self.name} says Woof!\")\n",
    "\n",
    "\n",
    "class Cat(Animal):\n",
    "    def sound(self):  \n",
    "        print(f\"{self.name} says Meow!\")\n",
    "\n",
    "\n",
    "dog = Dog(\"Tommy\")\n",
    "cat = Cat(\"Kitty\")\n",
    "\n",
    "dog.sound()  \n",
    "cat.sound()  \n"
   ]
  },
  {
   "cell_type": "markdown",
   "id": "e0bc61bf",
   "metadata": {},
   "source": [
    "3. POLYMORPHISM\n",
    "\n",
    " *Polymorphism means \"many forms\".\n",
    "\n",
    " *It allows the same method name to behave differently depending on the object calling it.\n",
    "\n",
    " *It helps write flexible and reusable code.\n",
    "\n"
   ]
  },
  {
   "cell_type": "code",
   "execution_count": 21,
   "id": "f9855a64",
   "metadata": {},
   "outputs": [
    {
     "name": "stdout",
     "output_type": "stream",
     "text": [
      "Sparrow chirps\n",
      "Crow caws\n"
     ]
    }
   ],
   "source": [
    "class Bird:\n",
    "    def sound(self):\n",
    "        print(\"Some bird sound\")\n",
    "\n",
    "class Sparrow(Bird):\n",
    "    def sound(self):\n",
    "        print(\"Sparrow chirps\")\n",
    "\n",
    "class Crow(Bird):\n",
    "    def sound(self):\n",
    "        print(\"Crow caws\")\n",
    "\n",
    "def make_sound(bird):\n",
    "    bird.sound()   \n",
    "sparrow = Sparrow()\n",
    "crow = Crow()\n",
    "\n",
    "make_sound(sparrow)\n",
    "make_sound(crow)      \n"
   ]
  },
  {
   "cell_type": "markdown",
   "id": "e9c0d107",
   "metadata": {},
   "source": [
    "4.ABSTRACTION\n",
    "\n",
    " *Abstraction means hiding complex details and showing only the essential features to the user.\n",
    "\n",
    " *It helps to reduce complexity by hiding internal implementation.\n",
    "\n",
    " *You only see what an object does, not how it does it."
   ]
  },
  {
   "cell_type": "code",
   "execution_count": 22,
   "id": "773b7658",
   "metadata": {},
   "outputs": [
    {
     "name": "stdout",
     "output_type": "stream",
     "text": [
      "Car is moving\n",
      "Bike is moving\n"
     ]
    }
   ],
   "source": [
    "from abc import ABC, abstractmethod\n",
    "\n",
    "\n",
    "class Vehicle(ABC):\n",
    "    @abstractmethod\n",
    "    def move(self):\n",
    "        pass   \n",
    "\n",
    "\n",
    "class Car(Vehicle):\n",
    "    def move(self):\n",
    "        print(\"Car is moving\")\n",
    "\n",
    "class Bike(Vehicle):\n",
    "    def move(self):\n",
    "        print(\"Bike is moving\")\n",
    "\n",
    "\n",
    "c = Car()\n",
    "b = Bike()\n",
    "\n",
    "c.move()   \n",
    "b.move()   \n"
   ]
  }
 ],
 "metadata": {
  "kernelspec": {
   "display_name": "Python 3",
   "language": "python",
   "name": "python3"
  },
  "language_info": {
   "codemirror_mode": {
    "name": "ipython",
    "version": 3
   },
   "file_extension": ".py",
   "mimetype": "text/x-python",
   "name": "python",
   "nbconvert_exporter": "python",
   "pygments_lexer": "ipython3",
   "version": "3.12.10"
  }
 },
 "nbformat": 4,
 "nbformat_minor": 5
}
