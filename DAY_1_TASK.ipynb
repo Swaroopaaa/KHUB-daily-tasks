{
  "nbformat": 4,
  "nbformat_minor": 0,
  "metadata": {
    "colab": {
      "provenance": [],
      "authorship_tag": "ABX9TyOdNXqD/L2JL09WL76h5LCU",
      "include_colab_link": true
    },
    "kernelspec": {
      "name": "python3",
      "display_name": "Python 3"
    },
    "language_info": {
      "name": "python"
    }
  },
  "cells": [
    {
      "cell_type": "markdown",
      "metadata": {
        "id": "view-in-github",
        "colab_type": "text"
      },
      "source": [
        "<a href=\"https://colab.research.google.com/github/Swaroopaaa/KHUB-daily-tasks/blob/main/DAY_1_TASK.ipynb\" target=\"_parent\"><img src=\"https://colab.research.google.com/assets/colab-badge.svg\" alt=\"Open In Colab\"/></a>"
      ]
    },
    {
      "cell_type": "markdown",
      "source": [
        "STRING\n",
        "\n",
        "\n",
        "A string is a sequence of characters enclosed within single quotes ('hlo') or double quotes (\"hlo\")."
      ],
      "metadata": {
        "id": "J26_2NFAF9DF"
      }
    },
    {
      "cell_type": "code",
      "source": [
        "name = \"Swaroopa\"\n",
        "print(name)\n"
      ],
      "metadata": {
        "colab": {
          "base_uri": "https://localhost:8080/"
        },
        "id": "Iu26-xp1G1-J",
        "outputId": "992a1b6c-57ba-460b-bf7c-a226bec3ce95"
      },
      "execution_count": 7,
      "outputs": [
        {
          "output_type": "stream",
          "name": "stdout",
          "text": [
            "Swaroopa\n"
          ]
        }
      ]
    },
    {
      "cell_type": "markdown",
      "source": [
        "STRING METHODS\n",
        "\n",
        "upper()----Converts all letters to uppercase.\n",
        "\n",
        "lower()----Converts all letters to lowercase.\n",
        "\n",
        "strip()----Removes spaces from beginning and end.\n",
        "\n",
        "lstrip()----Removes spaces only from the left side.\n",
        "\n",
        "rstrip()----Removes spaces only from the right side.\n",
        "\n",
        "replace()----Replaces text.\n",
        "\n",
        "split()----Splits string into list of words.\n",
        "\n",
        "join()----Joins list of strings into one string.\n",
        "\n",
        "title()----Capitalizes first letter of every word.\n",
        "\n",
        "len()----Returns number of characters in string."
      ],
      "metadata": {
        "id": "JpYJfc9XHh89"
      }
    },
    {
      "cell_type": "code",
      "source": [
        "text = \" hlo swaroopa \"\n",
        "\n",
        "print( text.upper())\n",
        "print( text.lower())\n",
        "print( text.strip())\n",
        "print( text.lstrip())\n",
        "print( text.rstrip())\n",
        "print( text.replace(\"hlo\", \"bye\"))\n",
        "print( text.strip().split())\n",
        "print( text.title())\n",
        "print(len(text))\n"
      ],
      "metadata": {
        "colab": {
          "base_uri": "https://localhost:8080/"
        },
        "id": "DEKNgYvoJGgP",
        "outputId": "1c72a0aa-6e11-4e3d-d5a2-d2086d6467a1"
      },
      "execution_count": 6,
      "outputs": [
        {
          "output_type": "stream",
          "name": "stdout",
          "text": [
            " HLO SWAROOPA \n",
            " hlo swaroopa \n",
            "hlo swaroopa\n",
            "hlo swaroopa \n",
            " hlo swaroopa\n",
            " bye swaroopa \n",
            "['hlo', 'swaroopa']\n",
            " Hlo Swaroopa \n",
            "14\n"
          ]
        }
      ]
    },
    {
      "cell_type": "markdown",
      "source": [
        "BOOLEAN\n",
        "\n",
        "Only two values:\n",
        "\n",
        "True---1\n",
        "\n",
        "False---0\n",
        "\n",
        "Used in logical operations and conditions.\n",
        "\n",
        "OPERATORS\n",
        "\n",
        "* Comparison Operators\n",
        "\n",
        "* Logical Operators"
      ],
      "metadata": {
        "id": "6W1qorXjMGh6"
      }
    },
    {
      "cell_type": "markdown",
      "source": [
        "COMPARSION OPERATORS\n",
        "\n",
        "\n",
        "*equal to ==       \n",
        "\n",
        "*Not equal to !=\n",
        "\n",
        "*Greater than   >\n",
        "\n",
        "*Less than  <\n",
        "\n",
        "Greater than or equal >=\n",
        "\n",
        "Less than or equal <=\n",
        "\n",
        "   "
      ],
      "metadata": {
        "id": "YfqnXzh2N9df"
      }
    },
    {
      "cell_type": "markdown",
      "source": [
        "LOGICAL OPERATORS\n",
        "\n",
        "and----Both conditions must be true\n",
        "\n",
        "or----At least one condition is true\n",
        "\n",
        "not----Reverses the condition"
      ],
      "metadata": {
        "id": "AbQ6SrAqQ6on"
      }
    },
    {
      "cell_type": "code",
      "source": [
        "a = 10\n",
        "b = 5\n",
        "\n",
        "print( a > b)\n",
        "print( a < b)\n",
        "print( a == b)\n",
        "print(a != b)\n",
        "print(a >= 10 and b <= 5)\n",
        "print(a >= 10 or b <= 5)\n",
        "print(not(a == b))\n"
      ],
      "metadata": {
        "colab": {
          "base_uri": "https://localhost:8080/"
        },
        "id": "GvOY0Q-VSGLq",
        "outputId": "4f9da81c-4a55-4e27-9807-e2d721f1d54a"
      },
      "execution_count": 9,
      "outputs": [
        {
          "output_type": "stream",
          "name": "stdout",
          "text": [
            "True\n",
            "False\n",
            "False\n",
            "True\n",
            "True\n",
            "True\n",
            "True\n"
          ]
        }
      ]
    },
    {
      "cell_type": "markdown",
      "source": [
        " LIST\n",
        "\n",
        "Ordered\n",
        "\n",
        "Mutable\n",
        "\n",
        "Duplicates allowed"
      ],
      "metadata": {
        "id": "9fi6NBmkUEIq"
      }
    },
    {
      "cell_type": "code",
      "source": [
        "names = [\"devi\", \"swaroopa\", \"geeta\"]\n",
        "names.append(\"roja\")\n",
        "print(names)\n"
      ],
      "metadata": {
        "colab": {
          "base_uri": "https://localhost:8080/"
        },
        "id": "tC2fPhlCU9bN",
        "outputId": "e5f24e0e-77ef-4bfd-d5bc-509d83ba91ff"
      },
      "execution_count": 10,
      "outputs": [
        {
          "output_type": "stream",
          "name": "stdout",
          "text": [
            "['devi', 'swaroopa', 'geeta', 'roja']\n"
          ]
        }
      ]
    },
    {
      "cell_type": "markdown",
      "source": [
        " TUPLE\n",
        "\n",
        "Ordered\n",
        "\n",
        "Immutable (can't change)\n",
        "\n",
        "Allows duplicates"
      ],
      "metadata": {
        "id": "52oY-5--VY1_"
      }
    },
    {
      "cell_type": "code",
      "source": [
        "food = (\"chicken\", \"prawns\", \"fish\")\n",
        "print(food[1])\n"
      ],
      "metadata": {
        "colab": {
          "base_uri": "https://localhost:8080/"
        },
        "id": "ukirPLewXDkh",
        "outputId": "4d6d9db9-6c13-4bf4-ee22-47b0378e3841"
      },
      "execution_count": 11,
      "outputs": [
        {
          "output_type": "stream",
          "name": "stdout",
          "text": [
            "prawns\n"
          ]
        }
      ]
    },
    {
      "cell_type": "markdown",
      "source": [
        "SET\n",
        "\n",
        "Unordered (random order lo untadi)\n",
        "\n",
        "No duplicates\n",
        "\n",
        "Mutable"
      ],
      "metadata": {
        "id": "LFNbbZ4rXV9p"
      }
    },
    {
      "cell_type": "code",
      "source": [
        "nums = {1, 2, 3, 3,4,5,6,5,8,7}\n",
        "print(nums)\n"
      ],
      "metadata": {
        "colab": {
          "base_uri": "https://localhost:8080/"
        },
        "id": "veBIm5TaYNck",
        "outputId": "f058dadc-6c78-4997-9496-f5316b651c72"
      },
      "execution_count": 12,
      "outputs": [
        {
          "output_type": "stream",
          "name": "stdout",
          "text": [
            "{1, 2, 3, 4, 5, 6, 7, 8}\n"
          ]
        }
      ]
    },
    {
      "cell_type": "markdown",
      "source": [
        "DICTIONARY (dict)\n",
        "\n",
        "\n",
        "Key-value pairs\n",
        "\n",
        "Mutable\n",
        "\n",
        "Insertion order maintained"
      ],
      "metadata": {
        "id": "jbh1QrXAYgjS"
      }
    },
    {
      "cell_type": "code",
      "source": [
        "student = {\"name\": \"swaroopa\", \"age\": 19}\n",
        "print(student[\"name\"])\n",
        "print(student[\"age\"])\n"
      ],
      "metadata": {
        "colab": {
          "base_uri": "https://localhost:8080/"
        },
        "id": "V-v_LvKrYxoU",
        "outputId": "9b4ea134-9241-4cdb-c9dc-952802a3d2ba"
      },
      "execution_count": 14,
      "outputs": [
        {
          "output_type": "stream",
          "name": "stdout",
          "text": [
            "swaroopa\n",
            "19\n"
          ]
        }
      ]
    },
    {
      "cell_type": "markdown",
      "source": [
        "CONDITIONAL STATEMENTS\n",
        "\n",
        "Conditional statements are used to control the flow of your program based on a condition.\n",
        "They let the program make decisions and execute different code blocks depending on whether a condition is True or False"
      ],
      "metadata": {
        "id": "52_Te-Nwaueo"
      }
    },
    {
      "cell_type": "markdown",
      "source": [
        "if----Runs a block of code if the condition is True\n",
        "\n",
        "elif----Runs if the previous if condition is False and this one is True\n",
        "\n",
        "else----Runs when all above conditions are False"
      ],
      "metadata": {
        "id": "pgNoOPGcbAPb"
      }
    },
    {
      "cell_type": "code",
      "source": [
        "num = 0\n",
        "\n",
        "if num > 0:\n",
        "    print(\"Positive number\")\n",
        "elif num < 0:\n",
        "    print(\"Negative number\")\n",
        "else:\n",
        "    print(\"Zero\")\n"
      ],
      "metadata": {
        "colab": {
          "base_uri": "https://localhost:8080/"
        },
        "id": "rzY3suGvbQUA",
        "outputId": "da157173-1c0e-468e-e050-ea90800b905b"
      },
      "execution_count": 15,
      "outputs": [
        {
          "output_type": "stream",
          "name": "stdout",
          "text": [
            "Zero\n"
          ]
        }
      ]
    },
    {
      "cell_type": "code",
      "source": [
        "score = int(input(\"Enter your score: \"))\n",
        "\n",
        "if score >= 90:\n",
        "    print(\"Grade A\")\n",
        "elif score >= 75:\n",
        "    print(\"Grade B\")\n",
        "elif score >= 60:\n",
        "    print(\"Grade C\")\n",
        "else:\n",
        "    print(\"Fail\")\n"
      ],
      "metadata": {
        "colab": {
          "base_uri": "https://localhost:8080/"
        },
        "id": "p9gkmi0vbhwX",
        "outputId": "63f361ba-b249-4eb1-e094-d2f4d67c4cd6"
      },
      "execution_count": 16,
      "outputs": [
        {
          "output_type": "stream",
          "name": "stdout",
          "text": [
            "Enter your score: 67\n",
            "Grade C\n"
          ]
        }
      ]
    },
    {
      "cell_type": "markdown",
      "source": [
        "MATCH-CASE\n",
        "\n",
        "The match-case statement is used to match a variable’s value against multiple patterns (like options), and execute the block that matches\n",
        "\n",
        "EXAMPLE 1"
      ],
      "metadata": {
        "id": "ApldDZkSfj68"
      }
    },
    {
      "cell_type": "code",
      "source": [
        "day = \"Monday\"\n",
        "\n",
        "match day:\n",
        "    case \"Monday\":\n",
        "        print(\"SWAROOPA\")\n",
        "    case \"Friday\":\n",
        "        print(\"DEVI\")\n",
        "    case \"Sunday\":\n",
        "        print(\"GEETA\")\n",
        "    case _:\n",
        "        print(\"NO MORE\")\n"
      ],
      "metadata": {
        "colab": {
          "base_uri": "https://localhost:8080/"
        },
        "id": "wG0N4pAIgY8d",
        "outputId": "2639f984-9513-4119-f0cf-22d25c429451"
      },
      "execution_count": 17,
      "outputs": [
        {
          "output_type": "stream",
          "name": "stdout",
          "text": [
            "SWAROOPA\n"
          ]
        }
      ]
    },
    {
      "cell_type": "markdown",
      "source": [
        "EXAMPLE 2"
      ],
      "metadata": {
        "id": "_bWV_NWXhS01"
      }
    },
    {
      "cell_type": "code",
      "source": [
        "a = 55\n",
        "b = 8\n",
        "op = '+'\n",
        "\n",
        "match op:\n",
        "    case '+':\n",
        "        print(\"Addition:\", a + b)\n",
        "    case '-':\n",
        "        print(\"Subtraction:\", a - b)\n",
        "    case '*':\n",
        "        print(\"Multiplication:\", a * b)\n",
        "    case '/':\n",
        "        print(\"Division:\", a / b)\n",
        "    case _:\n",
        "        print(\"Invalid operator\")\n"
      ],
      "metadata": {
        "colab": {
          "base_uri": "https://localhost:8080/"
        },
        "id": "l9HoVMfbhZ1V",
        "outputId": "69f24cbd-dad7-4e3e-f5fe-6fede1e53233"
      },
      "execution_count": 18,
      "outputs": [
        {
          "output_type": "stream",
          "name": "stdout",
          "text": [
            "Addition: 63\n"
          ]
        }
      ]
    },
    {
      "cell_type": "markdown",
      "source": [
        "STRING REVERSED\n"
      ],
      "metadata": {
        "id": "GDLjdTFxmcjw"
      }
    },
    {
      "cell_type": "code",
      "source": [
        "text = \"swaroopaq\"\n",
        "reversed_text = text[::-1]\n",
        "print(reversed_text)\n"
      ],
      "metadata": {
        "colab": {
          "base_uri": "https://localhost:8080/"
        },
        "id": "_2CDyCJomgAv",
        "outputId": "f1b7f7a6-63e8-4db4-cb3d-7e7bd487ebb5"
      },
      "execution_count": 21,
      "outputs": [
        {
          "output_type": "stream",
          "name": "stdout",
          "text": [
            "qapooraws\n"
          ]
        }
      ]
    }
  ]
}