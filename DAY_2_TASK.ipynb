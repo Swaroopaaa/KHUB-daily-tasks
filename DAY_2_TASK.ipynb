{
 "cells": [
  {
   "cell_type": "markdown",
   "id": "b213f687",
   "metadata": {},
   "source": [
    "--LOOPS---\n",
    "Loops help us repeat a block of code multiple times without writing it again and again. Python provides:\n",
    "\n",
    "for loop\n",
    "\n",
    "while loop\n",
    "Along with loop control statements (break, continue, pass) and advanced features like else in loops and nested loops."
   ]
  },
  {
   "cell_type": "markdown",
   "id": "262700ca",
   "metadata": {},
   "source": [
    "1. for Loop\n",
    "A for loop is used to iterate over a sequence (like list, tuple, string, or range of numbers).\n",
    "\n",
    "Syntax\n",
    "for variable in sequence:\n",
    "    # Code to execute\n",
    "\n",
    "Using range()\n"
   ]
  },
  {
   "cell_type": "code",
   "execution_count": 1,
   "id": "f4feb98e",
   "metadata": {},
   "outputs": [
    {
     "name": "stdout",
     "output_type": "stream",
     "text": [
      "1\n",
      "2\n",
      "3\n",
      "4\n",
      "5\n"
     ]
    }
   ],
   "source": [
    "for i in range(1, 6):  # prints 1 to 5\n",
    "    print(i)\n"
   ]
  },
  {
   "cell_type": "markdown",
   "id": "348da327",
   "metadata": {},
   "source": [
    "Example: List Iteration"
   ]
  },
  {
   "cell_type": "code",
   "execution_count": null,
   "id": "f4dc9acb",
   "metadata": {},
   "outputs": [
    {
     "name": "stdout",
     "output_type": "stream",
     "text": [
      "swaroopa\n",
      "sai\n",
      "devi\n"
     ]
    }
   ],
   "source": [
    "names = [\"swaroopa\", \"sai\", \"devi\"]\n",
    "for fruit in names:\n",
    "    print(names)\n"
   ]
  },
  {
   "cell_type": "markdown",
   "id": "15ffa271",
   "metadata": {},
   "source": [
    "Example: String Iteration\n"
   ]
  },
  {
   "cell_type": "code",
   "execution_count": 5,
   "id": "4887366e",
   "metadata": {},
   "outputs": [
    {
     "name": "stdout",
     "output_type": "stream",
     "text": [
      "P\n",
      "y\n",
      "t\n",
      "h\n",
      "o\n",
      "n\n"
     ]
    }
   ],
   "source": [
    "for i in \"Python\":\n",
    "    print(i)\n"
   ]
  },
  {
   "cell_type": "markdown",
   "id": "5a5feedb",
   "metadata": {},
   "source": [
    "Example: Tuple Iteration"
   ]
  },
  {
   "cell_type": "code",
   "execution_count": 6,
   "id": "8cb2d767",
   "metadata": {},
   "outputs": [
    {
     "name": "stdout",
     "output_type": "stream",
     "text": [
      "10\n",
      "20\n",
      "30\n"
     ]
    }
   ],
   "source": [
    "nums = (10, 20, 30)\n",
    "for n in nums:\n",
    "    print(n)\n"
   ]
  },
  {
   "cell_type": "markdown",
   "id": "ec97caab",
   "metadata": {},
   "source": [
    "2. while Loop\n",
    "A while loop repeats as long as a condition is True.\n",
    "\n",
    " Syntax\n",
    " while condition:\n",
    "    # Code to execute\n"
   ]
  },
  {
   "cell_type": "code",
   "execution_count": 9,
   "id": "e4790cb2",
   "metadata": {},
   "outputs": [
    {
     "name": "stdout",
     "output_type": "stream",
     "text": [
      "1\n",
      "2\n",
      "3\n",
      "4\n",
      "5\n"
     ]
    }
   ],
   "source": [
    "i = 1\n",
    "while i <= 5:\n",
    "    print(i)\n",
    "    i +=1"
   ]
  },
  {
   "cell_type": "markdown",
   "id": "c54bb5ef",
   "metadata": {},
   "source": [
    "3. Loop Control Statements\n",
    "These are used to control how the loop runs — stop early, skip an iteration, or do nothing.\n",
    "\n",
    "break\n",
    "Use: Exit the loop immediately when a condition is met."
   ]
  },
  {
   "cell_type": "code",
   "execution_count": null,
   "id": "5c3bd28c",
   "metadata": {},
   "outputs": [
    {
     "name": "stdout",
     "output_type": "stream",
     "text": [
      "0\n",
      "1\n",
      "2\n",
      "3\n",
      "4\n"
     ]
    }
   ],
   "source": [
    "# Example: break\n",
    "for i in range(10):\n",
    "    if i == 5:\n",
    "        break\n",
    "    print(i)\n"
   ]
  },
  {
   "cell_type": "markdown",
   "id": "366c3fb7",
   "metadata": {},
   "source": [
    "continue\n",
    "Use: Skip the current iteration and go to the next one."
   ]
  },
  {
   "cell_type": "code",
   "execution_count": 11,
   "id": "52a9a986",
   "metadata": {},
   "outputs": [
    {
     "name": "stdout",
     "output_type": "stream",
     "text": [
      "1\n",
      "2\n",
      "4\n",
      "5\n"
     ]
    }
   ],
   "source": [
    "\n",
    "for i in range(1, 6):\n",
    "    if i == 3:\n",
    "        continue  # skip 3\n",
    "    print(i)\n"
   ]
  },
  {
   "cell_type": "markdown",
   "id": "fab13d36",
   "metadata": {},
   "source": [
    "pass\n",
    " Use: Does nothing. Used as a placeholder when code is not ready yet.\n"
   ]
  },
  {
   "cell_type": "code",
   "execution_count": 12,
   "id": "99b98cb3",
   "metadata": {},
   "outputs": [
    {
     "name": "stdout",
     "output_type": "stream",
     "text": [
      "0\n",
      "1\n",
      "2\n",
      "3\n",
      "4\n"
     ]
    }
   ],
   "source": [
    "\n",
    "for i in range(5):\n",
    "    if i == 2:\n",
    "        pass\n",
    "    print(i)\n"
   ]
  },
  {
   "cell_type": "markdown",
   "id": "bfac224f",
   "metadata": {},
   "source": [
    "4. else with Loops\n",
    "When a loop runs completely (not stopped by break), the else block runs."
   ]
  },
  {
   "cell_type": "code",
   "execution_count": 13,
   "id": "231e0539",
   "metadata": {},
   "outputs": [
    {
     "name": "stdout",
     "output_type": "stream",
     "text": [
      "0\n",
      "1\n",
      "2\n",
      "Loop completed successfully\n"
     ]
    }
   ],
   "source": [
    "for i in range(3):\n",
    "    print(i)\n",
    "else:\n",
    "    print(\"Loop completed successfully\")\n"
   ]
  },
  {
   "cell_type": "markdown",
   "id": "1540b6f3",
   "metadata": {},
   "source": [
    "5. Nested Loops\n",
    "A loop inside another loop is called a nested loop. Used for printing patterns, tables, etc."
   ]
  },
  {
   "cell_type": "code",
   "execution_count": 15,
   "id": "e2e3e739",
   "metadata": {},
   "outputs": [
    {
     "name": "stdout",
     "output_type": "stream",
     "text": [
      "1 2 3 4 \n",
      "1 2 3 4 \n",
      "1 2 3 4 \n",
      "1 2 3 4 \n",
      "1 2 3 4 \n"
     ]
    }
   ],
   "source": [
    "\n",
    "for i in range(1, 6):      \n",
    "    for j in range(1, 5):  \n",
    "        print(j, end=\" \")\n",
    "    print()\n"
   ]
  },
  {
   "cell_type": "markdown",
   "id": "7a76a9c6",
   "metadata": {},
   "source": [
    "Star Pattern\n"
   ]
  },
  {
   "cell_type": "code",
   "execution_count": 16,
   "id": "ce017f20",
   "metadata": {},
   "outputs": [
    {
     "name": "stdout",
     "output_type": "stream",
     "text": [
      "* \n",
      "* * \n",
      "* * * \n",
      "* * * * \n",
      "* * * * * \n"
     ]
    }
   ],
   "source": [
    "\n",
    "for i in range(1, 6):       \n",
    "    for j in range(i):      \n",
    "        print(\"*\", end=\" \")\n",
    "    print()\n"
   ]
  },
  {
   "cell_type": "code",
   "execution_count": 17,
   "id": "211cad29",
   "metadata": {},
   "outputs": [
    {
     "name": "stdout",
     "output_type": "stream",
     "text": [
      "FOR LOOP:\n",
      "1\n",
      "2\n",
      "3\n",
      "\n",
      "WHILE LOOP:\n",
      "1\n",
      "2\n",
      "3\n",
      "\n",
      "BREAK Example:\n",
      "0\n",
      "1\n",
      "2\n",
      "\n",
      "CONTINUE Example:\n",
      "0\n",
      "1\n",
      "3\n",
      "4\n",
      "\n",
      "PASS Example:\n",
      "0\n",
      "1\n",
      "2\n",
      "\n",
      "FOR-ELSE:\n",
      "0\n",
      "1\n",
      "2\n",
      "Completed without break\n",
      "\n",
      "NESTED LOOP (Pattern):\n",
      "* \n",
      "* * \n",
      "* * * \n"
     ]
    }
   ],
   "source": [
    "\n",
    "print(\"FOR LOOP:\")\n",
    "for i in range(1, 4):\n",
    "    print(i)\n",
    "\n",
    "print(\"\\nWHILE LOOP:\")\n",
    "i = 1\n",
    "while i <= 3:\n",
    "    print(i)\n",
    "    i += 1\n",
    "\n",
    "\n",
    "print(\"\\nBREAK Example:\")\n",
    "for i in range(5):\n",
    "    if i == 3:\n",
    "        break\n",
    "    print(i)\n",
    "\n",
    "\n",
    "print(\"\\nCONTINUE Example:\")\n",
    "for i in range(5):\n",
    "    if i == 2:\n",
    "        continue\n",
    "    print(i)\n",
    "\n",
    "\n",
    "print(\"\\nPASS Example:\")\n",
    "for i in range(3):\n",
    "    if i == 1:\n",
    "        pass\n",
    "    print(i)\n",
    "\n",
    "\n",
    "print(\"\\nFOR-ELSE:\")\n",
    "for i in range(3):\n",
    "    print(i)\n",
    "else:\n",
    "    print(\"Completed without break\")\n",
    "\n",
    "print(\"\\nNESTED LOOP (Pattern):\")\n",
    "for i in range(1, 4):\n",
    "    for j in range(i):\n",
    "        print(\"*\", end=\" \")\n",
    "    print()\n"
   ]
  },
  {
   "cell_type": "markdown",
   "id": "2b899ba0",
   "metadata": {},
   "source": [
    "Functions \n",
    "Functions help us group reusable code into blocks and make programs more organized and readable."
   ]
  },
  {
   "cell_type": "markdown",
   "id": "49ec6eff",
   "metadata": {},
   "source": [
    "1. Defining and Calling Functions\n",
    "Using def keyword"
   ]
  },
  {
   "cell_type": "code",
   "execution_count": 18,
   "id": "60aa2fc4",
   "metadata": {},
   "outputs": [
    {
     "name": "stdout",
     "output_type": "stream",
     "text": [
      "Hello, welcome!\n"
     ]
    }
   ],
   "source": [
    "\n",
    "def greet():\n",
    "    print(\"Hello, welcome!\")\n",
    "\n",
    "greet()\n"
   ]
  },
  {
   "cell_type": "markdown",
   "id": "26d8fe05",
   "metadata": {},
   "source": [
    "Understanding return\n",
    "return is used to send back a value from a function."
   ]
  },
  {
   "cell_type": "code",
   "execution_count": 19,
   "id": "9c71201c",
   "metadata": {},
   "outputs": [
    {
     "name": "stdout",
     "output_type": "stream",
     "text": [
      "Sum: 8\n"
     ]
    }
   ],
   "source": [
    "def add(a, b):\n",
    "    return a + b\n",
    "\n",
    "result = add(3, 5)\n",
    "print(\"Sum:\", result)\n"
   ]
  },
  {
   "cell_type": "markdown",
   "id": "5be28272",
   "metadata": {},
   "source": [
    "2. Function Arguments\n",
    "Positional Arguments\n",
    "Values are passed in the same order as parameters.\n",
    "\n"
   ]
  },
  {
   "cell_type": "code",
   "execution_count": 21,
   "id": "af7dee5f",
   "metadata": {},
   "outputs": [
    {
     "name": "stdout",
     "output_type": "stream",
     "text": [
      "Name: Swaroopa\n",
      "Branch: AID\n"
     ]
    }
   ],
   "source": [
    "def student(name, branch):\n",
    "    print(\"Name:\", name)\n",
    "    print(\"Branch:\", branch)\n",
    "\n",
    "student(\"Swaroopa\", \"AID\")\n"
   ]
  },
  {
   "cell_type": "markdown",
   "id": "b64985d5",
   "metadata": {},
   "source": [
    "Default Arguments\n",
    "You can provide default values to parameters.\n",
    "\n"
   ]
  },
  {
   "cell_type": "code",
   "execution_count": 22,
   "id": "8e31c55d",
   "metadata": {},
   "outputs": [
    {
     "name": "stdout",
     "output_type": "stream",
     "text": [
      "Hello Guest\n",
      "Hello Swaroopa\n"
     ]
    }
   ],
   "source": [
    "def greet(name=\"Guest\"):\n",
    "    print(\"Hello\", name)\n",
    "\n",
    "greet()            \n",
    "greet(\"Swaroopa\")  \n"
   ]
  },
  {
   "cell_type": "markdown",
   "id": "1d38687c",
   "metadata": {},
   "source": [
    "Keyword Arguments\n",
    "You can pass values using key = value format, in any order."
   ]
  },
  {
   "cell_type": "code",
   "execution_count": 23,
   "id": "8500775c",
   "metadata": {},
   "outputs": [
    {
     "name": "stdout",
     "output_type": "stream",
     "text": [
      "Name: Jyothi\n",
      "Branch: CSE\n"
     ]
    }
   ],
   "source": [
    "def student(name, branch):\n",
    "    print(\"Name:\", name)\n",
    "    print(\"Branch:\", branch)\n",
    "\n",
    "student(branch=\"CSE\", name=\"Jyothi\")\n"
   ]
  },
  {
   "cell_type": "markdown",
   "id": "173a37e3",
   "metadata": {},
   "source": [
    "*args – Variable number of positional arguments\n"
   ]
  },
  {
   "cell_type": "code",
   "execution_count": 24,
   "id": "87ec9007",
   "metadata": {},
   "outputs": [
    {
     "name": "stdout",
     "output_type": "stream",
     "text": [
      "Marks: (80, 75, 90)\n",
      "Total: 245\n"
     ]
    }
   ],
   "source": [
    "def total_marks(*marks):\n",
    "    print(\"Marks:\", marks)\n",
    "    print(\"Total:\", sum(marks))\n",
    "\n",
    "total_marks(80, 75, 90)\n"
   ]
  },
  {
   "cell_type": "markdown",
   "id": "0e7f5371",
   "metadata": {},
   "source": [
    "**kwargs – Variable number of keyword arguments"
   ]
  },
  {
   "cell_type": "code",
   "execution_count": 25,
   "id": "01994dff",
   "metadata": {},
   "outputs": [
    {
     "name": "stdout",
     "output_type": "stream",
     "text": [
      "name : Swaroopa\n",
      "branch : AID\n",
      "year : 3\n"
     ]
    }
   ],
   "source": [
    "def student_info(**kwargs):\n",
    "    for key, value in kwargs.items():\n",
    "        print(f\"{key} : {value}\")\n",
    "\n",
    "student_info(name=\"Swaroopa\", branch=\"AID\", year=3)\n"
   ]
  },
  {
   "cell_type": "markdown",
   "id": "cd48a9b9",
   "metadata": {},
   "source": [
    " 3. Scope of Variables\n",
    "Local vs Global Variables\n",
    "Local variable: Defined inside a function\n",
    "\n",
    "Global variable: Defined outside functions"
   ]
  },
  {
   "cell_type": "code",
   "execution_count": 26,
   "id": "d82ad411",
   "metadata": {},
   "outputs": [
    {
     "name": "stdout",
     "output_type": "stream",
     "text": [
      "Inside function: 10\n",
      "Outside function: 50\n"
     ]
    }
   ],
   "source": [
    "x = 50  \n",
    "\n",
    "def show():\n",
    "    x = 10  \n",
    "    print(\"Inside function:\", x)\n",
    "\n",
    "show()\n",
    "print(\"Outside function:\", x)\n"
   ]
  },
  {
   "cell_type": "markdown",
   "id": "3abf0ecb",
   "metadata": {},
   "source": [
    "Using global keyword\n",
    "Use global to modify a global variable inside a function."
   ]
  },
  {
   "cell_type": "code",
   "execution_count": 27,
   "id": "fbce283c",
   "metadata": {},
   "outputs": [
    {
     "name": "stdout",
     "output_type": "stream",
     "text": [
      "x = 20\n"
     ]
    }
   ],
   "source": [
    "x = 10\n",
    "\n",
    "def update():\n",
    "    global x\n",
    "    x = 20\n",
    "\n",
    "update()\n",
    "print(\"x =\", x)\n"
   ]
  },
  {
   "cell_type": "markdown",
   "id": "717e1ad3",
   "metadata": {},
   "source": [
    "4. Lambda Functions\n",
    "Lambda functions are anonymous, one-line functions used when small functionality is required.\n",
    "\n",
    "Syntax:\n",
    "lambda arguments : expression\n"
   ]
  },
  {
   "cell_type": "code",
   "execution_count": 28,
   "id": "934ba931",
   "metadata": {},
   "outputs": [
    {
     "name": "stdout",
     "output_type": "stream",
     "text": [
      "Square of 5: 25\n"
     ]
    }
   ],
   "source": [
    "square = lambda x: x*x\n",
    "print(\"Square of 5:\", square(5))\n"
   ]
  },
  {
   "cell_type": "code",
   "execution_count": 29,
   "id": "cb2256da",
   "metadata": {},
   "outputs": [
    {
     "name": "stdout",
     "output_type": "stream",
     "text": [
      "Squares: [1, 4, 9, 16]\n"
     ]
    }
   ],
   "source": [
    "nums = [1, 2, 3, 4]\n",
    "squares = list(map(lambda x: x*x, nums))\n",
    "print(\"Squares:\", squares)\n"
   ]
  },
  {
   "cell_type": "markdown",
   "id": "0fe31abc",
   "metadata": {},
   "source": [
    "Use with filter()"
   ]
  },
  {
   "cell_type": "code",
   "execution_count": 30,
   "id": "bb0ce800",
   "metadata": {},
   "outputs": [
    {
     "name": "stdout",
     "output_type": "stream",
     "text": [
      "Even numbers: [2, 4]\n"
     ]
    }
   ],
   "source": [
    "nums = [1, 2, 3, 4, 5]\n",
    "evens = list(filter(lambda x: x % 2 == 0, nums))\n",
    "print(\"Even numbers:\", evens)\n"
   ]
  },
  {
   "cell_type": "markdown",
   "id": "e4b0c44e",
   "metadata": {},
   "source": []
  }
 ],
 "metadata": {
  "kernelspec": {
   "display_name": "Python 3",
   "language": "python",
   "name": "python3"
  },
  "language_info": {
   "codemirror_mode": {
    "name": "ipython",
    "version": 3
   },
   "file_extension": ".py",
   "mimetype": "text/x-python",
   "name": "python",
   "nbconvert_exporter": "python",
   "pygments_lexer": "ipython3",
   "version": "3.12.10"
  }
 },
 "nbformat": 4,
 "nbformat_minor": 5
}
